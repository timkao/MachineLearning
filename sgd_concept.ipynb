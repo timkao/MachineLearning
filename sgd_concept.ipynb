{
 "cells": [
  {
   "cell_type": "code",
   "execution_count": null,
   "metadata": {},
   "outputs": [],
   "source": [
    "import numpy as np\n",
    "from sklearn.metrics import mean_squared_error\n",
    "\n",
    "def SGD(X, y, lr=0.05, epoch=10, batch_size=1):\n",
    "\n",
    "    '''\n",
    "    Stochastic Gradient Descent for a single feature\n",
    "    '''\n",
    "\n",
    "    m, b = 0.5, 0.5\n",
    "    log, mse = [], []\n",
    "\n",
    "    for _ in range(epoch):\n",
    "\n",
    "        indexes = np.random.randint(0, len(X), batch_size)\n",
    "\n",
    "        Xs = np.take(X, indexes)\n",
    "        ys = np.take(y, indexes)\n",
    "        N = len(Xs)\n",
    "\n",
    "        f = ys - (m*Xs + b)\n",
    "\n",
    "\n",
    "        m -= lr * (-2 * Xs.dot(f).sum() / N)\n",
    "        b -= lr * (-2 * f.sum() / N)\n",
    "\n",
    "        log.append((m, b))\n",
    "        mse.append(mean_squared_error(y, m*X+b))\n",
    "\n",
    "    return m, b, log, mse\n"
   ]
  }
 ],
 "metadata": {
  "kernelspec": {
   "display_name": "Python 3",
   "language": "python",
   "name": "python3"
  },
  "language_info": {
   "name": "python",
   "version": "3.12.3"
  }
 },
 "nbformat": 4,
 "nbformat_minor": 2
}
