{
 "cells": [
  {
   "cell_type": "code",
   "execution_count": 4,
   "metadata": {},
   "outputs": [],
   "source": [
    "import numpy as np\n",
    "from sklearn.metrics import mean_squared_error\n",
    "\n",
    "def SGD(X, y, lr=0.05, epoch=10, batch_size=1):\n",
    "\n",
    "    '''\n",
    "    Stochastic Gradient Descent for a single feature\n",
    "    '''\n",
    "\n",
    "    m, b = 0.5, 0.5 # initialize weight and bias\n",
    "    log, mse = [], []\n",
    "\n",
    "    # update weight and bias every epoch\n",
    "    for _ in range(epoch):\n",
    "\n",
    "        # 根據 batch size 隨機取樣，先決定要取的樣本的位置\n",
    "        sample_locations = np.random.randint(0, len(X), batch_size)\n",
    "\n",
    "        # 根據上一步決定的位置取樣\n",
    "        X_samples = np.take(X, sample_locations)\n",
    "        y_samples = np.take(y, sample_locations)\n",
    "\n",
    "        # N 基本上就是樣本數 (batch size)\n",
    "        sample_size = len(X_samples)\n",
    "\n",
    "        # Error term (residuals), which is the difference between the actual target values ys and the predicted values m*Xs + b.\n",
    "        # ys -> actual value\n",
    "        # m*Xs + b -> predict value\n",
    "        residuals = y_samples - (m * X_samples + b)\n",
    "\n",
    "        # gradient 的計算是微積分\n",
    "        m -= lr * (-2 * X_samples.dot(residuals).sum() / sample_size)\n",
    "        b -= lr * (-2 * residuals.sum() / sample_size)\n",
    "\n",
    "        log.append((m, b))\n",
    "        mse.append(mean_squared_error(y, m*X+b))\n",
    "\n",
    "    return m, b, log, mse\n"
   ]
  },
  {
   "cell_type": "code",
   "execution_count": null,
   "metadata": {},
   "outputs": [],
   "source": []
  }
 ],
 "metadata": {
  "kernelspec": {
   "display_name": "Python 3",
   "language": "python",
   "name": "python3"
  },
  "language_info": {
   "codemirror_mode": {
    "name": "ipython",
    "version": 3
   },
   "file_extension": ".py",
   "mimetype": "text/x-python",
   "name": "python",
   "nbconvert_exporter": "python",
   "pygments_lexer": "ipython3",
   "version": "3.12.3"
  }
 },
 "nbformat": 4,
 "nbformat_minor": 2
}
