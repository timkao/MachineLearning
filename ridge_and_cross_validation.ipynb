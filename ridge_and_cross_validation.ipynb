{
 "cells": [
  {
   "cell_type": "code",
   "execution_count": 1,
   "metadata": {},
   "outputs": [],
   "source": [
    "import pandas as pd\n",
    "import numpy as np\n",
    "from sklearn.model_selection import train_test_split, cross_val_score, RepeatedKFold\n",
    "from sklearn.linear_model import Ridge\n",
    "from sklearn.metrics import r2_score\n",
    "\n",
    "df = pd.read_csv('/Users/chentingkao/PracticeData/housing.csv')\n",
    "feature_df = df.drop(['MEDV'], axis = 1)\n",
    "target = df['MEDV']\n",
    "\n",
    "X_train, X_test, y_train, y_test = train_test_split(feature_df, target, test_size = 0.25)"
   ]
  },
  {
   "cell_type": "code",
   "execution_count": 2,
   "metadata": {},
   "outputs": [
    {
     "data": {
      "text/plain": [
       "22.972988767284903"
      ]
     },
     "execution_count": 2,
     "metadata": {},
     "output_type": "execute_result"
    }
   ],
   "source": [
    "ridge_model = Ridge(alpha = 1)\n",
    "ridge_model.fit(X_train, y_train)\n",
    "\n",
    "# The intercept is the value of the target variable when all the predictors\n",
    "# are zero.\n",
    "# intercept 就是那個常數項\n",
    "ridge_model.intercept_"
   ]
  },
  {
   "cell_type": "code",
   "execution_count": 3,
   "metadata": {},
   "outputs": [
    {
     "data": {
      "text/plain": [
       "array([-0.04379411,  0.03072625, -0.02053928,  1.50380613, -8.87804506,\n",
       "        4.79488244, -0.01391751, -1.13890216,  0.20222418, -0.01177644,\n",
       "       -0.83984277,  0.00941658, -0.43911811])"
      ]
     },
     "execution_count": 3,
     "metadata": {},
     "output_type": "execute_result"
    }
   ],
   "source": [
    "# correlation coefficient\n",
    "# 可說是各自變數的權重\n",
    "ridge_model.coef_"
   ]
  },
  {
   "cell_type": "code",
   "execution_count": 4,
   "metadata": {},
   "outputs": [
    {
     "data": {
      "text/plain": [
       "0.7092900412378031"
      ]
     },
     "execution_count": 4,
     "metadata": {},
     "output_type": "execute_result"
    }
   ],
   "source": [
    "y_predict = ridge_model.predict(X_test)\n",
    "r2_score(y_test, y_predict)"
   ]
  },
  {
   "cell_type": "code",
   "execution_count": 15,
   "metadata": {},
   "outputs": [
    {
     "name": "stdout",
     "output_type": "stream",
     "text": [
      "-3.341103417845311\n",
      "{'alpha': 0.6000000000000001}\n",
      "CRIM        -0.045433\n",
      " ZN          0.030323\n",
      " INDUS      -0.012432\n",
      " CHAS        1.565749\n",
      " NOX       -10.847450\n",
      " RM          4.788400\n",
      " AGE        -0.012182\n",
      " DIS        -1.166753\n",
      " RAD         0.206715\n",
      " TAX        -0.011560\n",
      " PTRATIO    -0.863998\n",
      " B           0.009372\n",
      " LSTAT      -0.435621\n",
      "dtype: float64\n",
      "0.7109356983325323\n"
     ]
    }
   ],
   "source": [
    "from sklearn.model_selection import GridSearchCV\n",
    "\n",
    "# 做三次，每次均分為十份，其中某一份做為 test\n",
    "cross_validation = RepeatedKFold(n_splits = 10, n_repeats = 3)\n",
    "\n",
    "# define GridSearch\n",
    "grid = {'alpha': np.arange(0, 1, 0.1)}\n",
    "model = Ridge()\n",
    "search = GridSearchCV(model, grid, scoring = 'neg_mean_absolute_error', cv = cross_validation, n_jobs = -1)\n",
    "\n",
    "# return a GridSearchCV object\n",
    "search_results = search.fit(X_train, y_train)\n",
    "print(search_results.best_score_)\n",
    "print(search_results.best_params_)\n",
    "\n",
    "# Get the best model\n",
    "selected_model = search_results.best_estimator_\n",
    "\n",
    "# print the correlation coefficient of all features\n",
    "print(pd.Series(selected_model.coef_, index = X_train.columns))\n",
    "\n",
    "# make predictions and see how accurate they could be\n",
    "y_predict = selected_model.predict(X_test)\n",
    "print(r2_score(y_test, y_predict))\n"
   ]
  }
 ],
 "metadata": {
  "kernelspec": {
   "display_name": "Python 3",
   "language": "python",
   "name": "python3"
  },
  "language_info": {
   "codemirror_mode": {
    "name": "ipython",
    "version": 3
   },
   "file_extension": ".py",
   "mimetype": "text/x-python",
   "name": "python",
   "nbconvert_exporter": "python",
   "pygments_lexer": "ipython3",
   "version": "3.12.3"
  }
 },
 "nbformat": 4,
 "nbformat_minor": 2
}
