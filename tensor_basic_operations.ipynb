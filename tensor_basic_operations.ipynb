{
 "cells": [
  {
   "cell_type": "code",
   "execution_count": 4,
   "metadata": {},
   "outputs": [
    {
     "name": "stdout",
     "output_type": "stream",
     "text": [
      "tf.Tensor(4, shape=(), dtype=int32)\n",
      "tf.Tensor([4 1], shape=(2,), dtype=int32)\n",
      "tf.Tensor(\n",
      "[[3 4]\n",
      " [2 5]], shape=(2, 2), dtype=int32)\n"
     ]
    }
   ],
   "source": [
    "import tensorflow as tf\n",
    "import numpy as np\n",
    "\n",
    "rank_0_tensor = tf.constant(4)\n",
    "rank_1_tensor = tf.constant([4, 1])\n",
    "rank_2_tensor = tf.constant([[3, 4], [2, 5]])\n",
    "\n",
    "print(rank_0_tensor)\n",
    "print(rank_1_tensor)\n",
    "print(rank_2_tensor)\n"
   ]
  },
  {
   "cell_type": "code",
   "execution_count": 6,
   "metadata": {},
   "outputs": [
    {
     "name": "stdout",
     "output_type": "stream",
     "text": [
      "[[3 4]\n",
      " [2 5]]\n"
     ]
    }
   ],
   "source": [
    "# to numpy array\n",
    "print(rank_2_tensor.numpy())"
   ]
  },
  {
   "cell_type": "code",
   "execution_count": 17,
   "metadata": {},
   "outputs": [
    {
     "name": "stdout",
     "output_type": "stream",
     "text": [
      "tf.Tensor(\n",
      "[[10 25  7]\n",
      " [12 38 10]], shape=(2, 3), dtype=int32)\n",
      "tf.Tensor(\n",
      "[[ 4  6]\n",
      " [ 5 12]], shape=(2, 2), dtype=int32)\n",
      "tf.Tensor(\n",
      "[[ 3  8]\n",
      " [ 6 32]], shape=(2, 2), dtype=int32)\n"
     ]
    }
   ],
   "source": [
    "tensor_one = tf.constant([[3, 4], [2, 8]])\n",
    "tensor_two = tf.constant([[2, 3, 1], [1, 4, 1]])\n",
    "\n",
    "# dot product\n",
    "print(tf.matmul(tensor_one, tensor_two))\n",
    "\n",
    "tensor_three = tf.constant([[1, 2], [3, 4]])\n",
    "# add\n",
    "print(tf.add(tensor_one, tensor_three))\n",
    "\n",
    "# multiply\n",
    "print(tf.multiply(tensor_one, tensor_three))"
   ]
  },
  {
   "cell_type": "code",
   "execution_count": 23,
   "metadata": {},
   "outputs": [
    {
     "name": "stdout",
     "output_type": "stream",
     "text": [
      "tf.Tensor(8, shape=(), dtype=int32)\n",
      "tf.Tensor(\n",
      "[[3 4]\n",
      " [2 8]], shape=(2, 2), dtype=int32)\n",
      "tf.Tensor([0 1], shape=(2,), dtype=int64)\n"
     ]
    }
   ],
   "source": [
    "# find the largest value\n",
    "print(tf.reduce_max(tensor_one))\n",
    "\n",
    "print(tensor_one)\n",
    "\n",
    "# Index of the maximum value along axis 0 (columns)\n",
    "print(tf.math.argmax(tensor_one))"
   ]
  },
  {
   "cell_type": "code",
   "execution_count": 26,
   "metadata": {},
   "outputs": [
    {
     "name": "stdout",
     "output_type": "stream",
     "text": [
      "tf.Tensor([[1 2 3]], shape=(1, 3), dtype=int32)\n"
     ]
    }
   ],
   "source": [
    "tensor_shape = tf.constant([[1], [2], [3]])\n",
    "print(tf.reshape(tensor_shape, [1, 3]))"
   ]
  },
  {
   "cell_type": "code",
   "execution_count": 28,
   "metadata": {},
   "outputs": [
    {
     "name": "stdout",
     "output_type": "stream",
     "text": [
      "<tf.RaggedTensor [[0, 1, 2, 3], [4, 5], [6], [7, 8, 9]]>\n"
     ]
    }
   ],
   "source": [
    "# ragged tensor\n",
    "\n",
    "ragged_list = [[0, 1, 2, 3], [4, 5], [6], [7, 8, 9]]\n",
    "\n",
    "ragged_tensor = tf.ragged.constant(ragged_list)\n",
    "print(ragged_tensor)"
   ]
  },
  {
   "cell_type": "code",
   "execution_count": 29,
   "metadata": {},
   "outputs": [
    {
     "name": "stdout",
     "output_type": "stream",
     "text": [
      "tf.Tensor([b'this' b'is' b'a' b'string'], shape=(4,), dtype=string)\n"
     ]
    }
   ],
   "source": [
    "# string tensor\n",
    "string_tensor = tf.constant(['this', 'is', 'a', 'string'])\n",
    "\n",
    "print(string_tensor)"
   ]
  }
 ],
 "metadata": {
  "kernelspec": {
   "display_name": "Python 3",
   "language": "python",
   "name": "python3"
  },
  "language_info": {
   "codemirror_mode": {
    "name": "ipython",
    "version": 3
   },
   "file_extension": ".py",
   "mimetype": "text/x-python",
   "name": "python",
   "nbconvert_exporter": "python",
   "pygments_lexer": "ipython3",
   "version": "3.12.3"
  }
 },
 "nbformat": 4,
 "nbformat_minor": 2
}
