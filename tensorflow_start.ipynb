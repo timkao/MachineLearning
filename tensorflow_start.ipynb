{
 "cells": [
  {
   "cell_type": "code",
   "execution_count": 14,
   "metadata": {},
   "outputs": [],
   "source": [
    "import tensorflow as tf\n",
    "import pandas as pd\n",
    "import numpy as np\n",
    "from sklearn.preprocessing import StandardScaler\n",
    "from tensorflow.keras.layers import Dense\n",
    "\n",
    "(train_features, train_labels), (test_features, test_labels) = tf.keras.datasets.boston_housing.load_data()\n",
    "scaler = StandardScaler()\n",
    "trains_features = scaler.fit_transform(train_features)\n",
    "\n",
    "num_features = trains_features.shape[1]\n"
   ]
  },
  {
   "cell_type": "code",
   "execution_count": 15,
   "metadata": {},
   "outputs": [],
   "source": [
    "def build_model():\n",
    "  model = tf.keras.Sequential([Dense(20, activation = tf.nn.relu, input_shape = [num_features]), Dense(1)])\n",
    "  model.compile(optimizer = tf.optimzer.Adam(), loss = 'mae', metrics = 'mean_absolute_error')\n",
    "  return model"
   ]
  }
 ],
 "metadata": {
  "kernelspec": {
   "display_name": "Python 3",
   "language": "python",
   "name": "python3"
  },
  "language_info": {
   "codemirror_mode": {
    "name": "ipython",
    "version": 3
   },
   "file_extension": ".py",
   "mimetype": "text/x-python",
   "name": "python",
   "nbconvert_exporter": "python",
   "pygments_lexer": "ipython3",
   "version": "3.12.3"
  }
 },
 "nbformat": 4,
 "nbformat_minor": 2
}
